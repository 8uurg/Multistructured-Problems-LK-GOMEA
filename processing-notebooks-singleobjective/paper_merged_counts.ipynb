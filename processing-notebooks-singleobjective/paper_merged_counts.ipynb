{
 "cells": [
  {
   "cell_type": "markdown",
   "metadata": {},
   "source": [
    " DAEDALUS – Distributed and Automated Evolutionary Deep Architecture Learning with Unprecedented Scalability\n",
    "\n",
    "This research code was developed as part of the research programme Open Technology Programme with project number 18373, which was financed by the Dutch Research Council (NWO), Elekta, and Ortec Logiqcare.\n",
    "\n",
    "Project leaders: Peter A.N. Bosman, Tanja Alderliesten\n",
    "Researchers: Alex Chebykin, Arthur Guijt, Vangelis Kostoulas\n",
    "Main code developer: Arthur Guijt"
   ]
  },
  {
   "cell_type": "code",
   "execution_count": 1,
   "metadata": {
    "collapsed": true
   },
   "outputs": [],
   "source": [
    "import pandas as pd"
   ]
  },
  {
   "cell_type": "code",
   "execution_count": 2,
   "metadata": {
    "collapsed": false,
    "pycharm": {
     "name": "#%%\n"
    }
   },
   "outputs": [],
   "source": [
    "counts_maxcut_evaluations = pd.read_csv(\"counts_maxcut_evaluations.csv\").set_index(\"approach_x\").rename(columns={\"0\": \"#eval\"})\n",
    "counts_maxcut_time = pd.read_csv(\"counts_maxcut_time.csv\").set_index(\"approach_x\").rename(columns={\"0\": \"time\"})\n",
    "counts_bot_evaluations = pd.read_csv(\"counts_bot_evaluations.csv\").set_index(\"approach_x\").rename(columns={\"0\": \"#eval\"})\n",
    "counts_bot_time = pd.read_csv(\"counts_bot_time.csv\").set_index(\"approach_x\").rename(columns={\"0\": \"time\"})\n",
    "counts_wo_maxcut_evaluations = pd.read_csv(\"counts_wo_maxcut_evaluations.csv\").set_index(\"approach_x\").rename(columns={\"0\": \"#eval\"})\n",
    "counts_wo_maxcut_time = pd.read_csv(\"counts_wo_maxcut_time.csv\").set_index(\"approach_x\").rename(columns={\"0\": \"time\"})\n"
   ]
  },
  {
   "cell_type": "code",
   "execution_count": 3,
   "metadata": {
    "collapsed": false,
    "pycharm": {
     "name": "#%%\n"
    }
   },
   "outputs": [
    {
     "data": {
      "text/html": [
       "<div>\n",
       "<style scoped>\n",
       "    .dataframe tbody tr th:only-of-type {\n",
       "        vertical-align: middle;\n",
       "    }\n",
       "\n",
       "    .dataframe tbody tr th {\n",
       "        vertical-align: top;\n",
       "    }\n",
       "\n",
       "    .dataframe thead th {\n",
       "        text-align: right;\n",
       "    }\n",
       "</style>\n",
       "<table border=\"1\" class=\"dataframe\">\n",
       "  <thead>\n",
       "    <tr style=\"text-align: right;\">\n",
       "      <th></th>\n",
       "      <th>#eval</th>\n",
       "    </tr>\n",
       "    <tr>\n",
       "      <th>approach</th>\n",
       "      <th></th>\n",
       "    </tr>\n",
       "  </thead>\n",
       "  <tbody>\n",
       "    <tr>\n",
       "      <th>DSMGA2</th>\n",
       "      <td>3.0</td>\n",
       "    </tr>\n",
       "    <tr>\n",
       "      <th>GOMEA</th>\n",
       "      <td>5.0</td>\n",
       "    </tr>\n",
       "    <tr>\n",
       "      <th>LK-GOMEA (Asym)</th>\n",
       "      <td>9.0</td>\n",
       "    </tr>\n",
       "    <tr>\n",
       "      <th>LK-GOMEA (Sym)</th>\n",
       "      <td>12.0</td>\n",
       "    </tr>\n",
       "  </tbody>\n",
       "</table>\n",
       "</div>"
      ],
      "text/plain": [
       "                 #eval\n",
       "approach              \n",
       "DSMGA2             3.0\n",
       "GOMEA              5.0\n",
       "LK-GOMEA (Asym)    9.0\n",
       "LK-GOMEA (Sym)    12.0"
      ]
     },
     "metadata": {},
     "output_type": "display_data"
    },
    {
     "data": {
      "text/html": [
       "<div>\n",
       "<style scoped>\n",
       "    .dataframe tbody tr th:only-of-type {\n",
       "        vertical-align: middle;\n",
       "    }\n",
       "\n",
       "    .dataframe tbody tr th {\n",
       "        vertical-align: top;\n",
       "    }\n",
       "\n",
       "    .dataframe thead th {\n",
       "        text-align: right;\n",
       "    }\n",
       "</style>\n",
       "<table border=\"1\" class=\"dataframe\">\n",
       "  <thead>\n",
       "    <tr style=\"text-align: right;\">\n",
       "      <th></th>\n",
       "      <th>time</th>\n",
       "    </tr>\n",
       "    <tr>\n",
       "      <th>approach</th>\n",
       "      <th></th>\n",
       "    </tr>\n",
       "  </thead>\n",
       "  <tbody>\n",
       "    <tr>\n",
       "      <th>DSMGA2</th>\n",
       "      <td>4.0</td>\n",
       "    </tr>\n",
       "    <tr>\n",
       "      <th>GOMEA</th>\n",
       "      <td>10.0</td>\n",
       "    </tr>\n",
       "    <tr>\n",
       "      <th>LK-GOMEA (Asym)</th>\n",
       "      <td>7.0</td>\n",
       "    </tr>\n",
       "    <tr>\n",
       "      <th>LK-GOMEA (Sym)</th>\n",
       "      <td>10.0</td>\n",
       "    </tr>\n",
       "  </tbody>\n",
       "</table>\n",
       "</div>"
      ],
      "text/plain": [
       "                 time\n",
       "approach             \n",
       "DSMGA2            4.0\n",
       "GOMEA            10.0\n",
       "LK-GOMEA (Asym)   7.0\n",
       "LK-GOMEA (Sym)   10.0"
      ]
     },
     "metadata": {},
     "output_type": "display_data"
    }
   ],
   "source": [
    "counts_evaluations = (counts_maxcut_evaluations + counts_wo_maxcut_evaluations + counts_bot_evaluations)\n",
    "counts_time = (counts_maxcut_time + counts_wo_maxcut_time + counts_bot_time)\n",
    "counts_evaluations.index.names = [\"approach\"]\n",
    "counts_time.index.names = [\"approach\"]\n",
    "display(counts_evaluations)\n",
    "display(counts_time)"
   ]
  },
  {
   "cell_type": "code",
   "execution_count": 5,
   "metadata": {
    "collapsed": false,
    "pycharm": {
     "name": "#%%\n"
    }
   },
   "outputs": [
    {
     "data": {
      "text/html": [
       "<div>\n",
       "<style scoped>\n",
       "    .dataframe tbody tr th:only-of-type {\n",
       "        vertical-align: middle;\n",
       "    }\n",
       "\n",
       "    .dataframe tbody tr th {\n",
       "        vertical-align: top;\n",
       "    }\n",
       "\n",
       "    .dataframe thead th {\n",
       "        text-align: right;\n",
       "    }\n",
       "</style>\n",
       "<table border=\"1\" class=\"dataframe\">\n",
       "  <thead>\n",
       "    <tr style=\"text-align: right;\">\n",
       "      <th></th>\n",
       "      <th>#eval</th>\n",
       "      <th>time</th>\n",
       "    </tr>\n",
       "    <tr>\n",
       "      <th>approach</th>\n",
       "      <th></th>\n",
       "      <th></th>\n",
       "    </tr>\n",
       "  </thead>\n",
       "  <tbody>\n",
       "    <tr>\n",
       "      <th>DSMGA2</th>\n",
       "      <td>3.0 (4)</td>\n",
       "      <td>4.0 (3)</td>\n",
       "    </tr>\n",
       "    <tr>\n",
       "      <th>GOMEA</th>\n",
       "      <td>5.0 (3)</td>\n",
       "      <td>10.0 (1)</td>\n",
       "    </tr>\n",
       "    <tr>\n",
       "      <th>LK-GOMEA (Asym)</th>\n",
       "      <td>9.0 (2)</td>\n",
       "      <td>7.0 (2)</td>\n",
       "    </tr>\n",
       "    <tr>\n",
       "      <th>LK-GOMEA (Sym)</th>\n",
       "      <td>12.0 (1)</td>\n",
       "      <td>10.0 (1)</td>\n",
       "    </tr>\n",
       "  </tbody>\n",
       "</table>\n",
       "</div>"
      ],
      "text/plain": [
       "                    #eval      time\n",
       "approach                           \n",
       "DSMGA2            3.0 (4)   4.0 (3)\n",
       "GOMEA             5.0 (3)  10.0 (1)\n",
       "LK-GOMEA (Asym)   9.0 (2)   7.0 (2)\n",
       "LK-GOMEA (Sym)   12.0 (1)  10.0 (1)"
      ]
     },
     "execution_count": 5,
     "metadata": {},
     "output_type": "execute_result"
    }
   ],
   "source": [
    "merged_count_table = pd.merge(counts_evaluations, counts_time, left_index=True, right_index=True)\n",
    "merged_count_table[\"time\"] = merged_count_table[\"time\"].transform(str) + \" (\" + merged_count_table[\"time\"].rank(ascending=False, method=\"dense\").astype(int).transform(str) + \")\"\n",
    "merged_count_table[\"#eval\"] = merged_count_table[\"#eval\"].transform(str) + \" (\" + merged_count_table[\"#eval\"].rank(ascending=False, method=\"dense\").astype(int).transform(str) + \")\"\n",
    "# merged_count_table.reset_index().to_latex(\"2021-12-23-merged-count-table.tex\", index=False)\n",
    "merged_count_table.reset_index().to_latex(\"2022-01-25-merged-count-table.tex\", index=False)\n",
    "merged_count_table"
   ]
  },
  {
   "cell_type": "code",
   "execution_count": null,
   "metadata": {},
   "outputs": [],
   "source": []
  }
 ],
 "metadata": {
  "kernelspec": {
   "display_name": "Python 3",
   "language": "python",
   "name": "python3"
  },
  "language_info": {
   "codemirror_mode": {
    "name": "ipython",
    "version": 3
   },
   "file_extension": ".py",
   "mimetype": "text/x-python",
   "name": "python",
   "nbconvert_exporter": "python",
   "pygments_lexer": "ipython3",
   "version": "3.10.1"
  }
 },
 "nbformat": 4,
 "nbformat_minor": 0
}
