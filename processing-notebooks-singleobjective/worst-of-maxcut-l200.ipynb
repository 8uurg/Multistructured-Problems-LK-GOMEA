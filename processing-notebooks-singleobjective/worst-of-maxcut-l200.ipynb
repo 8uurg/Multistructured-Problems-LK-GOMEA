{
 "cells": [
  {
   "cell_type": "markdown",
   "metadata": {},
   "source": [
    " DAEDALUS – Distributed and Automated Evolutionary Deep Architecture Learning with Unprecedented Scalability\n",
    "\n",
    "This research code was developed as part of the research programme Open Technology Programme with project number 18373, which was financed by the Dutch Research Council (NWO), Elekta, and Ortec Logiqcare.\n",
    "\n",
    "Project leaders: Peter A.N. Bosman, Tanja Alderliesten\n",
    "Researchers: Alex Chebykin, Arthur Guijt, Vangelis Kostoulas\n",
    "Main code developer: Arthur Guijt"
   ]
  },
  {
   "cell_type": "code",
   "execution_count": 1,
   "metadata": {},
   "outputs": [],
   "source": [
    "import pandas as pd\n",
    "from pathlib import Path"
   ]
  },
  {
   "cell_type": "code",
   "execution_count": 8,
   "metadata": {},
   "outputs": [],
   "source": [
    "def set_run(df, idx):\n",
    "    df[\"run\"] = idx\n",
    "    return df\n",
    "\n",
    "gomea_elitists = pd.concat([\n",
    "        set_run(pd.read_csv(p, sep=\" \"), idx)\n",
    "        for idx, p in enumerate(Path(\"./worstofmaxcut_parallel__l_200__fns_2__GOMEA\").glob(\"*/elitists.txt\"))\n",
    "    ])\n",
    "gomea_elitists[\"approach\"] = \"GOMEA\"\n",
    "lkgomea_elitists = pd.concat([\n",
    "        set_run(pd.read_csv(p, sep=\" \"), idx)\n",
    "        for idx, p in enumerate(Path(\"./worstofmaxcut_parallel__l_200__fns_2__LKGOMEA_B\").glob(\"*/elitists.txt\"))\n",
    "    ])\n",
    "lkgomea_elitists[\"approach\"] = \"LKGOMEA\"\n",
    "results = pd.concat([\n",
    "    gomea_elitists,\n",
    "    lkgomea_elitists,\n",
    "])"
   ]
  },
  {
   "cell_type": "code",
   "execution_count": 10,
   "metadata": {},
   "outputs": [
    {
     "data": {
      "text/html": [
       "<div>\n",
       "<style scoped>\n",
       "    .dataframe tbody tr th:only-of-type {\n",
       "        vertical-align: middle;\n",
       "    }\n",
       "\n",
       "    .dataframe tbody tr th {\n",
       "        vertical-align: top;\n",
       "    }\n",
       "\n",
       "    .dataframe thead th {\n",
       "        text-align: right;\n",
       "    }\n",
       "</style>\n",
       "<table border=\"1\" class=\"dataframe\">\n",
       "  <thead>\n",
       "    <tr style=\"text-align: right;\">\n",
       "      <th></th>\n",
       "      <th>#Evaluations</th>\n",
       "      <th>Time,millisec.</th>\n",
       "      <th>Fitness</th>\n",
       "      <th>IsKey</th>\n",
       "      <th>PopulationSize</th>\n",
       "      <th>Solution</th>\n",
       "      <th>run</th>\n",
       "      <th>approach</th>\n",
       "    </tr>\n",
       "  </thead>\n",
       "  <tbody>\n",
       "    <tr>\n",
       "      <th>0</th>\n",
       "      <td>1</td>\n",
       "      <td>0</td>\n",
       "      <td>29869.0</td>\n",
       "      <td>0</td>\n",
       "      <td>2</td>\n",
       "      <td>1110000010101001100010000010110011101011101011...</td>\n",
       "      <td>0</td>\n",
       "      <td>GOMEA</td>\n",
       "    </tr>\n",
       "    <tr>\n",
       "      <th>1</th>\n",
       "      <td>6</td>\n",
       "      <td>5</td>\n",
       "      <td>29998.0</td>\n",
       "      <td>0</td>\n",
       "      <td>4</td>\n",
       "      <td>1101010011110101011000010010110000111001111010...</td>\n",
       "      <td>0</td>\n",
       "      <td>GOMEA</td>\n",
       "    </tr>\n",
       "    <tr>\n",
       "      <th>2</th>\n",
       "      <td>64</td>\n",
       "      <td>24</td>\n",
       "      <td>30052.0</td>\n",
       "      <td>0</td>\n",
       "      <td>8</td>\n",
       "      <td>1100000111100110011100001101100010010001110000...</td>\n",
       "      <td>0</td>\n",
       "      <td>GOMEA</td>\n",
       "    </tr>\n",
       "    <tr>\n",
       "      <th>3</th>\n",
       "      <td>70</td>\n",
       "      <td>24</td>\n",
       "      <td>30095.0</td>\n",
       "      <td>0</td>\n",
       "      <td>8</td>\n",
       "      <td>1100000111100111011100001100000010010001110000...</td>\n",
       "      <td>0</td>\n",
       "      <td>GOMEA</td>\n",
       "    </tr>\n",
       "    <tr>\n",
       "      <th>4</th>\n",
       "      <td>72</td>\n",
       "      <td>24</td>\n",
       "      <td>30121.0</td>\n",
       "      <td>0</td>\n",
       "      <td>8</td>\n",
       "      <td>1100000111100111011100001100000010010001110000...</td>\n",
       "      <td>0</td>\n",
       "      <td>GOMEA</td>\n",
       "    </tr>\n",
       "    <tr>\n",
       "      <th>...</th>\n",
       "      <td>...</td>\n",
       "      <td>...</td>\n",
       "      <td>...</td>\n",
       "      <td>...</td>\n",
       "      <td>...</td>\n",
       "      <td>...</td>\n",
       "      <td>...</td>\n",
       "      <td>...</td>\n",
       "    </tr>\n",
       "    <tr>\n",
       "      <th>107</th>\n",
       "      <td>4337592</td>\n",
       "      <td>593092</td>\n",
       "      <td>30974.0</td>\n",
       "      <td>0</td>\n",
       "      <td>1024</td>\n",
       "      <td>0010001001111111111110111110001001000111001111...</td>\n",
       "      <td>19</td>\n",
       "      <td>LKGOMEA</td>\n",
       "    </tr>\n",
       "    <tr>\n",
       "      <th>108</th>\n",
       "      <td>4348875</td>\n",
       "      <td>593500</td>\n",
       "      <td>30977.0</td>\n",
       "      <td>0</td>\n",
       "      <td>1024</td>\n",
       "      <td>1010010011101101111001110110001011000011011101...</td>\n",
       "      <td>19</td>\n",
       "      <td>LKGOMEA</td>\n",
       "    </tr>\n",
       "    <tr>\n",
       "      <th>109</th>\n",
       "      <td>4923173</td>\n",
       "      <td>714055</td>\n",
       "      <td>30982.0</td>\n",
       "      <td>0</td>\n",
       "      <td>1024</td>\n",
       "      <td>1100000111000011111001111111001011001101111001...</td>\n",
       "      <td>19</td>\n",
       "      <td>LKGOMEA</td>\n",
       "    </tr>\n",
       "    <tr>\n",
       "      <th>110</th>\n",
       "      <td>7027557</td>\n",
       "      <td>1077277</td>\n",
       "      <td>30985.0</td>\n",
       "      <td>0</td>\n",
       "      <td>2048</td>\n",
       "      <td>1100010111000011111001111111001011001101111001...</td>\n",
       "      <td>19</td>\n",
       "      <td>LKGOMEA</td>\n",
       "    </tr>\n",
       "    <tr>\n",
       "      <th>111</th>\n",
       "      <td>7027582</td>\n",
       "      <td>1077278</td>\n",
       "      <td>30987.0</td>\n",
       "      <td>0</td>\n",
       "      <td>2048</td>\n",
       "      <td>1100010111000011111001111111001011001101111001...</td>\n",
       "      <td>19</td>\n",
       "      <td>LKGOMEA</td>\n",
       "    </tr>\n",
       "  </tbody>\n",
       "</table>\n",
       "<p>5212 rows × 8 columns</p>\n",
       "</div>"
      ],
      "text/plain": [
       "     #Evaluations  Time,millisec.  Fitness  IsKey  PopulationSize  \\\n",
       "0               1               0  29869.0      0               2   \n",
       "1               6               5  29998.0      0               4   \n",
       "2              64              24  30052.0      0               8   \n",
       "3              70              24  30095.0      0               8   \n",
       "4              72              24  30121.0      0               8   \n",
       "..            ...             ...      ...    ...             ...   \n",
       "107       4337592          593092  30974.0      0            1024   \n",
       "108       4348875          593500  30977.0      0            1024   \n",
       "109       4923173          714055  30982.0      0            1024   \n",
       "110       7027557         1077277  30985.0      0            2048   \n",
       "111       7027582         1077278  30987.0      0            2048   \n",
       "\n",
       "                                              Solution  run approach  \n",
       "0    1110000010101001100010000010110011101011101011...    0    GOMEA  \n",
       "1    1101010011110101011000010010110000111001111010...    0    GOMEA  \n",
       "2    1100000111100110011100001101100010010001110000...    0    GOMEA  \n",
       "3    1100000111100111011100001100000010010001110000...    0    GOMEA  \n",
       "4    1100000111100111011100001100000010010001110000...    0    GOMEA  \n",
       "..                                                 ...  ...      ...  \n",
       "107  0010001001111111111110111110001001000111001111...   19  LKGOMEA  \n",
       "108  1010010011101101111001110110001011000011011101...   19  LKGOMEA  \n",
       "109  1100000111000011111001111111001011001101111001...   19  LKGOMEA  \n",
       "110  1100010111000011111001111111001011001101111001...   19  LKGOMEA  \n",
       "111  1100010111000011111001111111001011001101111001...   19  LKGOMEA  \n",
       "\n",
       "[5212 rows x 8 columns]"
      ]
     },
     "execution_count": 10,
     "metadata": {},
     "output_type": "execute_result"
    }
   ],
   "source": [
    "results"
   ]
  },
  {
   "cell_type": "code",
   "execution_count": 14,
   "metadata": {},
   "outputs": [],
   "source": [
    "from scipy.stats import mannwhitneyu"
   ]
  },
  {
   "cell_type": "code",
   "execution_count": 17,
   "metadata": {},
   "outputs": [],
   "source": [
    "best_per_approach = results.groupby([\"run\", \"approach\"])[\"Fitness\"].max().reset_index().groupby(\"approach\")[\"Fitness\"].apply(list).reset_index()"
   ]
  },
  {
   "cell_type": "code",
   "execution_count": 22,
   "metadata": {},
   "outputs": [
    {
     "data": {
      "text/html": [
       "<div>\n",
       "<style scoped>\n",
       "    .dataframe tbody tr th:only-of-type {\n",
       "        vertical-align: middle;\n",
       "    }\n",
       "\n",
       "    .dataframe tbody tr th {\n",
       "        vertical-align: top;\n",
       "    }\n",
       "\n",
       "    .dataframe thead th {\n",
       "        text-align: right;\n",
       "    }\n",
       "</style>\n",
       "<table border=\"1\" class=\"dataframe\">\n",
       "  <thead>\n",
       "    <tr style=\"text-align: right;\">\n",
       "      <th></th>\n",
       "      <th>approach_x</th>\n",
       "      <th>Fitness_x</th>\n",
       "      <th>approach_y</th>\n",
       "      <th>Fitness_y</th>\n",
       "      <th>test</th>\n",
       "    </tr>\n",
       "  </thead>\n",
       "  <tbody>\n",
       "    <tr>\n",
       "      <th>0</th>\n",
       "      <td>GOMEA</td>\n",
       "      <td>[30991.0, 30994.0, 30986.0, 30981.0, 30978.0, ...</td>\n",
       "      <td>GOMEA</td>\n",
       "      <td>[30991.0, 30994.0, 30986.0, 30981.0, 30978.0, ...</td>\n",
       "      <td>(200.0, 0.5)</td>\n",
       "    </tr>\n",
       "    <tr>\n",
       "      <th>3</th>\n",
       "      <td>LKGOMEA</td>\n",
       "      <td>[30997.0, 30992.0, 30990.0, 30993.0, 30983.0, ...</td>\n",
       "      <td>LKGOMEA</td>\n",
       "      <td>[30997.0, 30992.0, 30990.0, 30993.0, 30983.0, ...</td>\n",
       "      <td>(200.0, 0.5)</td>\n",
       "    </tr>\n",
       "  </tbody>\n",
       "</table>\n",
       "</div>"
      ],
      "text/plain": [
       "  approach_x                                          Fitness_x approach_y  \\\n",
       "0      GOMEA  [30991.0, 30994.0, 30986.0, 30981.0, 30978.0, ...      GOMEA   \n",
       "3    LKGOMEA  [30997.0, 30992.0, 30990.0, 30993.0, 30983.0, ...    LKGOMEA   \n",
       "\n",
       "                                           Fitness_y          test  \n",
       "0  [30991.0, 30994.0, 30986.0, 30981.0, 30978.0, ...  (200.0, 0.5)  \n",
       "3  [30997.0, 30992.0, 30990.0, 30993.0, 30983.0, ...  (200.0, 0.5)  "
      ]
     },
     "execution_count": 22,
     "metadata": {},
     "output_type": "execute_result"
    }
   ],
   "source": [
    "pairs = pd.merge(best_per_approach, best_per_approach, how=\"cross\")\n",
    "pairs = pairs[pairs[\"approach_x\"] == pairs[\"approach_y\"]]\n",
    "\n",
    "pairs[\"test\"] = pairs.apply((lambda r: mannwhitneyu(r[\"Fitness_x\"], r[\"Fitness_y\"], alternative=\"greater\", use_continuity=False)), axis=1)\n",
    "pairs"
   ]
  },
  {
   "cell_type": "code",
   "execution_count": 25,
   "metadata": {},
   "outputs": [
    {
     "data": {
      "text/html": [
       "<div>\n",
       "<style scoped>\n",
       "    .dataframe tbody tr th:only-of-type {\n",
       "        vertical-align: middle;\n",
       "    }\n",
       "\n",
       "    .dataframe tbody tr th {\n",
       "        vertical-align: top;\n",
       "    }\n",
       "\n",
       "    .dataframe thead th {\n",
       "        text-align: right;\n",
       "    }\n",
       "</style>\n",
       "<table border=\"1\" class=\"dataframe\">\n",
       "  <thead>\n",
       "    <tr style=\"text-align: right;\">\n",
       "      <th></th>\n",
       "      <th>approach</th>\n",
       "      <th>Fitness</th>\n",
       "    </tr>\n",
       "  </thead>\n",
       "  <tbody>\n",
       "    <tr>\n",
       "      <th>0</th>\n",
       "      <td>GOMEA</td>\n",
       "      <td>[30991.0, 30994.0, 30986.0, 30981.0, 30978.0, ...</td>\n",
       "    </tr>\n",
       "    <tr>\n",
       "      <th>1</th>\n",
       "      <td>LKGOMEA</td>\n",
       "      <td>[30997.0, 30992.0, 30990.0, 30993.0, 30983.0, ...</td>\n",
       "    </tr>\n",
       "  </tbody>\n",
       "</table>\n",
       "</div>"
      ],
      "text/plain": [
       "  approach                                            Fitness\n",
       "0    GOMEA  [30991.0, 30994.0, 30986.0, 30981.0, 30978.0, ...\n",
       "1  LKGOMEA  [30997.0, 30992.0, 30990.0, 30993.0, 30983.0, ..."
      ]
     },
     "execution_count": 25,
     "metadata": {},
     "output_type": "execute_result"
    }
   ],
   "source": [
    "best_per_approach"
   ]
  },
  {
   "cell_type": "code",
   "execution_count": 27,
   "metadata": {},
   "outputs": [
    {
     "data": {
      "text/plain": [
       "[30991.0,\n",
       " 30994.0,\n",
       " 30986.0,\n",
       " 30981.0,\n",
       " 30978.0,\n",
       " 30991.0,\n",
       " 30975.0,\n",
       " 30963.0,\n",
       " 30979.0,\n",
       " 30996.0,\n",
       " 30975.0,\n",
       " 31002.0,\n",
       " 30967.0,\n",
       " 30993.0,\n",
       " 30987.0,\n",
       " 30973.0,\n",
       " 31001.0,\n",
       " 30992.0,\n",
       " 30985.0,\n",
       " 30985.0]"
      ]
     },
     "execution_count": 27,
     "metadata": {},
     "output_type": "execute_result"
    }
   ],
   "source": [
    "best_per_approach.iloc[0][\"Fitness\"]"
   ]
  },
  {
   "cell_type": "code",
   "execution_count": 28,
   "metadata": {},
   "outputs": [
    {
     "data": {
      "text/plain": [
       "[30997.0,\n",
       " 30992.0,\n",
       " 30990.0,\n",
       " 30993.0,\n",
       " 30983.0,\n",
       " 30983.0,\n",
       " 30999.0,\n",
       " 30992.0,\n",
       " 30991.0,\n",
       " 30982.0,\n",
       " 30993.0,\n",
       " 30988.0,\n",
       " 30988.0,\n",
       " 31001.0,\n",
       " 30995.0,\n",
       " 30985.0,\n",
       " 30988.0,\n",
       " 30997.0,\n",
       " 30986.0,\n",
       " 30987.0]"
      ]
     },
     "execution_count": 28,
     "metadata": {},
     "output_type": "execute_result"
    }
   ],
   "source": [
    "best_per_approach.iloc[1][\"Fitness\"]"
   ]
  },
  {
   "cell_type": "code",
   "execution_count": 31,
   "metadata": {},
   "outputs": [
    {
     "data": {
      "text/plain": [
       "'01011100010000001100011110010101010101001111011011111010010111100010011011111110110100001110010010100000110111111111100111110100001001011000100000100001100111110100111000000100100001011011001101101000'"
      ]
     },
     "execution_count": 31,
     "metadata": {},
     "output_type": "execute_result"
    }
   ],
   "source": [
    "results.iloc[results[\"Fitness\"].argmax()][\"Solution\"]"
   ]
  },
  {
   "cell_type": "code",
   "execution_count": null,
   "metadata": {},
   "outputs": [],
   "source": []
  }
 ],
 "metadata": {
  "interpreter": {
   "hash": "b89b5cfaba6639976dc87ff2fec6d58faec662063367e2c229c520fe71072417"
  },
  "kernelspec": {
   "display_name": "Python 3.10.1 64-bit",
   "language": "python",
   "name": "python3"
  },
  "language_info": {
   "codemirror_mode": {
    "name": "ipython",
    "version": 3
   },
   "file_extension": ".py",
   "mimetype": "text/x-python",
   "name": "python",
   "nbconvert_exporter": "python",
   "pygments_lexer": "ipython3",
   "version": "3.10.1"
  },
  "orig_nbformat": 4
 },
 "nbformat": 4,
 "nbformat_minor": 2
}
